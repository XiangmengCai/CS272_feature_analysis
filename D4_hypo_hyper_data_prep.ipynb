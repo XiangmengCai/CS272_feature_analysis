{
 "cells": [
  {
   "cell_type": "markdown",
   "metadata": {},
   "source": [
    "## Data Prepation for Hyper- and Hypo-methylation Split\n",
    "This notebook leverage the pre-computed mean signal value of each feature from normal patients to split the patient samples into hyper- and hypo-methylation"
   ]
  },
  {
   "cell_type": "code",
   "execution_count": 17,
   "metadata": {},
   "outputs": [],
   "source": [
    "import pandas as pd\n",
    "import numpy as np\n",
    "from tqdm import trange\n",
    "import matplotlib.pyplot as plt"
   ]
  },
  {
   "cell_type": "code",
   "execution_count": 9,
   "metadata": {},
   "outputs": [],
   "source": [
    "datafolder = './cv_data_pvalue_fixed/'\n",
    "hyper_out = './cv_data_pvalue_fixed_hyper/'\n",
    "hypo_out = './cv_data_pvalue_fixed_hypo/'\n",
    "\n",
    "modalities = ['ChIP_CTCF', 'ChIP_H3K27ac', 'ChIP_H3K27me3', 'ChIP_H3K4me3', 'DNase']\n",
    "average = pd.read_csv(datafolder + 'average_signals.csv')\n",
    "average = average.iloc[:, 2:]"
   ]
  },
  {
   "cell_type": "code",
   "execution_count": 11,
   "metadata": {},
   "outputs": [
    {
     "name": "stdout",
     "output_type": "stream",
     "text": [
      "ChIP_CTCF | Fold: 0 | Hyper: 2647 | Hypo: 7353\n",
      "ChIP_CTCF | Fold: 1 | Hyper: 2095 | Hypo: 7905\n",
      "ChIP_CTCF | Fold: 2 | Hyper: 2328 | Hypo: 7672\n",
      "ChIP_CTCF | Fold: 3 | Hyper: 2965 | Hypo: 7035\n",
      "ChIP_CTCF | Fold: 4 | Hyper: 1554 | Hypo: 8446\n",
      "ChIP_H3K27ac | Fold: 0 | Hyper: 2213 | Hypo: 7787\n",
      "ChIP_H3K27ac | Fold: 1 | Hyper: 4969 | Hypo: 5031\n",
      "ChIP_H3K27ac | Fold: 2 | Hyper: 6230 | Hypo: 3770\n",
      "ChIP_H3K27ac | Fold: 3 | Hyper: 4345 | Hypo: 5655\n",
      "ChIP_H3K27ac | Fold: 4 | Hyper: 3628 | Hypo: 6372\n",
      "ChIP_H3K27me3 | Fold: 0 | Hyper: 2588 | Hypo: 7412\n",
      "ChIP_H3K27me3 | Fold: 1 | Hyper: 1688 | Hypo: 8312\n",
      "ChIP_H3K27me3 | Fold: 2 | Hyper: 3751 | Hypo: 6249\n",
      "ChIP_H3K27me3 | Fold: 3 | Hyper: 3948 | Hypo: 6052\n",
      "ChIP_H3K27me3 | Fold: 4 | Hyper: 3276 | Hypo: 6724\n",
      "ChIP_H3K4me3 | Fold: 0 | Hyper: 6320 | Hypo: 3680\n",
      "ChIP_H3K4me3 | Fold: 1 | Hyper: 6635 | Hypo: 3365\n",
      "ChIP_H3K4me3 | Fold: 2 | Hyper: 5647 | Hypo: 4353\n",
      "ChIP_H3K4me3 | Fold: 3 | Hyper: 5406 | Hypo: 4594\n",
      "ChIP_H3K4me3 | Fold: 4 | Hyper: 4310 | Hypo: 5690\n",
      "DNase | Fold: 0 | Hyper: 9983 | Hypo: 17\n",
      "DNase | Fold: 1 | Hyper: 9977 | Hypo: 23\n",
      "DNase | Fold: 2 | Hyper: 9963 | Hypo: 37\n",
      "DNase | Fold: 3 | Hyper: 9973 | Hypo: 27\n",
      "DNase | Fold: 4 | Hyper: 9972 | Hypo: 28\n"
     ]
    }
   ],
   "source": [
    "for modality in modalities:\n",
    "    for i in range(5):\n",
    "        # Get identification numbers of patient samples\n",
    "        labels = pd.read_csv(datafolder + modality + '_fold_' + str(i) + '_labels.csv',index_col=0)\n",
    "        patient_names = list(labels.index[labels['AD_label']==0])\n",
    "\n",
    "        # Merge frame_info with average value of normal samples\n",
    "        frame_info = pd.read_csv(datafolder + modality + '_fold_' + str(i) + '_frame_info.csv')\n",
    "        frame_info.rename(columns={'Unnamed: 0':'identifier'}, inplace=True )\n",
    "        new_frame_info = pd.merge(frame_info, average,  how='left', left_on=['chrom','start', 'end'], right_on = ['chrom','start', 'end'])\n",
    "\n",
    "        # Read in sample data\n",
    "        df = pd.read_csv(datafolder + modality + '_fold_' + str(i) + '_data.csv',index_col=0)\n",
    "\n",
    "        # Iterate through sample data and collect indexes of hyper/hypo features\n",
    "        hypers = []\n",
    "        hypos = []\n",
    "\n",
    "        for index, row in df.iterrows():\n",
    "            patient_avg = np.average(row.loc[patient_names])\n",
    "            normal_avg = list(new_frame_info.loc[new_frame_info['identifier']==index].value_scaled)[0]\n",
    "            if normal_avg >= patient_avg:\n",
    "                hypers.append(index)\n",
    "            else:\n",
    "                hypos.append(index)\n",
    "        \n",
    "        df.loc[hypers].to_csv(hyper_out + modality + '_fold_' + str(i) + '_data_hyper.csv')\n",
    "        df.loc[hypos].to_csv(hypo_out + modality + '_fold_' + str(i) + '_data_hypo.csv')\n",
    "\n",
    "        print(f'{modality} | Fold: {i} | Hyper: {len(hypers)} | Hypo: {len(hypos)}')"
   ]
  },
  {
   "cell_type": "code",
   "execution_count": null,
   "metadata": {},
   "outputs": [],
   "source": []
  }
 ],
 "metadata": {
  "interpreter": {
   "hash": "935e1605d07335476fad48518aa28dc65cf38ca634c299097b253b57548819a4"
  },
  "kernelspec": {
   "display_name": "Python 3.9.2 ('qilab-genome')",
   "language": "python",
   "name": "python3"
  },
  "language_info": {
   "codemirror_mode": {
    "name": "ipython",
    "version": 3
   },
   "file_extension": ".py",
   "mimetype": "text/x-python",
   "name": "python",
   "nbconvert_exporter": "python",
   "pygments_lexer": "ipython3",
   "version": "3.9.2"
  },
  "orig_nbformat": 4
 },
 "nbformat": 4,
 "nbformat_minor": 2
}
